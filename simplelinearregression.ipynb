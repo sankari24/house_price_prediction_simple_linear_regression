{
  "nbformat": 4,
  "nbformat_minor": 0,
  "metadata": {
    "colab": {
      "provenance": []
    },
    "kernelspec": {
      "name": "python3",
      "display_name": "Python 3"
    },
    "language_info": {
      "name": "python"
    }
  },
  "cells": [
    {
      "cell_type": "markdown",
      "source": [
        "#  PROJECT: BUILDING A SIMPLE LINEAR REGRESSION MODEL FOR HOUSE PRICE PREDICTION"
      ],
      "metadata": {
        "id": "7TlJJTj8D4mm"
      }
    },
    {
      "cell_type": "markdown",
      "source": [
        "**STEP1 : Importing Libraries**"
      ],
      "metadata": {
        "id": "AjqB0bWBEMq0"
      }
    },
    {
      "cell_type": "code",
      "execution_count": 46,
      "metadata": {
        "id": "Dc-oQYpO8xoV"
      },
      "outputs": [],
      "source": [
        "import numpy as np\n",
        "import pandas as pd\n",
        "import matplotlib.pyplot as plt\n",
        "import math\n"
      ]
    },
    {
      "cell_type": "markdown",
      "source": [
        "**STEP2: Loading the data**"
      ],
      "metadata": {
        "id": "G7_ETHG7EjLB"
      }
    },
    {
      "cell_type": "code",
      "source": [
        "x=np.array([1,2]) #size of house in 1000 sqft unit\n",
        "y=np.array([300,500]) #price of house in 1000 dollars"
      ],
      "metadata": {
        "id": "_rPwulCrAysv"
      },
      "execution_count": 47,
      "outputs": []
    },
    {
      "cell_type": "markdown",
      "source": [
        "**STEP:3 Visualize your data**"
      ],
      "metadata": {
        "id": "j6A2o1ofEqiB"
      }
    },
    {
      "cell_type": "code",
      "source": [
        "plt.scatter(x, y, marker='x', c='r')\n",
        "# Set the title\n",
        "plt.title(\"size of house vs. Price\")\n",
        "# Set the y-axis label\n",
        "plt.ylabel('Price in dollar')\n",
        "# Set the x-axis label\n",
        "plt.xlabel('house size in sqft')\n",
        "plt.show()"
      ],
      "metadata": {
        "id": "pAWQps0WAsxg"
      },
      "execution_count": null,
      "outputs": []
    },
    {
      "cell_type": "markdown",
      "source": [
        "**Number Of Training Examples**"
      ],
      "metadata": {
        "id": "7Is6LonhE7Fm"
      }
    },
    {
      "cell_type": "code",
      "source": [
        "m=len(x)"
      ],
      "metadata": {
        "id": "tI3sqoQGBsUC"
      },
      "execution_count": 49,
      "outputs": []
    },
    {
      "cell_type": "markdown",
      "source": [
        "**STEP 4:BUILDING A LINEAR REGRESSION MODEL**"
      ],
      "metadata": {
        "id": "rEuy5p1hFEZ7"
      }
    },
    {
      "cell_type": "markdown",
      "source": [
        "**3 steps:**\n",
        "\n",
        "       1) compute cost\n",
        "\n",
        "       2)comute gradient\n",
        "\n",
        "       3)run gradient descent\n"
      ],
      "metadata": {
        "id": "HvWU8tvTFLiz"
      }
    },
    {
      "cell_type": "markdown",
      "source": [
        "1)compute cost"
      ],
      "metadata": {
        "id": "bXsua7pKFkJ_"
      }
    },
    {
      "cell_type": "code",
      "source": [
        "def cost_computation(x,y,w,b):\n",
        "  final_cost=0\n",
        "  cost_sum=0\n",
        "  for i in range(m):\n",
        "    f_wb=w*x[i]+b\n",
        "    cost=(f_wb-y[i])**2\n",
        "    cost_sum = cost_sum+cost\n",
        "  final_cost=cost_sum * (1/(2*m))\n",
        "  return final_cost"
      ],
      "metadata": {
        "id": "ncssBsTzBFf4"
      },
      "execution_count": 50,
      "outputs": []
    },
    {
      "cell_type": "markdown",
      "source": [
        " 2)compute gradient"
      ],
      "metadata": {
        "id": "jhgyqIksFp7f"
      }
    },
    {
      "cell_type": "code",
      "source": [
        "def gradient_computation(x,y,w,b):\n",
        "  dj_dw=0\n",
        "  dj_db=0\n",
        "  for i in range(m):\n",
        "    f_wb=w*x[i] + b\n",
        "    dj_dw_i=(f_wb-y[i])*x[i]\n",
        "    dj_db_i=f_wb-y[i]\n",
        "    dj_dw=dj_dw+dj_dw_i\n",
        "    dj_db=dj_db+dj_db_i\n",
        "  dj_dw=dj_dw/m\n",
        "  dj_db=dj_db/m\n",
        "  return dj_dw,dj_db\n"
      ],
      "metadata": {
        "id": "dubrMNILBJ14"
      },
      "execution_count": 51,
      "outputs": []
    },
    {
      "cell_type": "markdown",
      "source": [
        " 3) Compute grdaient descent"
      ],
      "metadata": {
        "id": "80I3-vQIFv_m"
      }
    },
    {
      "cell_type": "code",
      "source": [
        "def gradient_descent(x,y,w_init,b_init,alpha,no_of_iters,cost_function,gradient_function):\n",
        "  w=w_init\n",
        "  b=b_init\n",
        "  j_hist=[]\n",
        "  p_hist=[]\n",
        "  for i in range(no_of_iters):\n",
        "    dj_dw,dj_db=gradient_function(x,y,w,b)\n",
        "    w = w-alpha*dj_dw\n",
        "    b = b-alpha*dj_db\n",
        "    if i<100000:\n",
        "      j_hist.append(cost_function(x,y,w,b))\n",
        "      p_hist.append([w,b])\n",
        "    if i % math.ceil(no_of_iters/10)== 0:\n",
        "      print(f\"Iteration {i:4}:\",f\"Cost: {j_hist[-1]:0.2e}\", f\"dj_dw: {dj_dw: 0.3e}, dj_db: {dj_db: 0.3e} \", f\"w: {w: 0.3e}, b:{b:0.5e}\")\n",
        "  return w,b,j_hist,p_hist\n"
      ],
      "metadata": {
        "id": "0e33XkiFBOaQ"
      },
      "execution_count": 53,
      "outputs": []
    },
    {
      "cell_type": "markdown",
      "source": [
        "\n",
        "**STEP 5: Running The Gradient Descent**"
      ],
      "metadata": {
        "id": "iLry3MTtF7F-"
      }
    },
    {
      "cell_type": "code",
      "source": [
        "w_init=0\n",
        "b_init=0\n",
        "iterations=1000\n",
        "temp_alpha=10e-2\n",
        "w_final,b_final,j_hist,p_hist=gradient_descent(x,y,w_init,b_init,temp_alpha,iterations,cost_computation,gradient_computation)\n",
        "print(f\"(w,b) found by gradient descent:({w_final},{b_final})\")"
      ],
      "metadata": {
        "id": "7KCkvQymBQno"
      },
      "execution_count": null,
      "outputs": []
    },
    {
      "cell_type": "markdown",
      "source": [],
      "metadata": {
        "id": "qeGBSSDAGWd7"
      }
    },
    {
      "cell_type": "markdown",
      "source": [
        "**STEP 6: Plotting Our Model**"
      ],
      "metadata": {
        "id": "kcfAYw3cGkyQ"
      }
    },
    {
      "cell_type": "code",
      "source": [
        "m = x.shape[0]\n",
        "predicted = np.zeros(m)\n",
        "for i in range(m):\n",
        "    predicted[i] = w_final * x[i] + b_final\n",
        "\n",
        "# Plot the linear fit\n",
        "plt.plot(x, predicted, c = \"b\")\n",
        "# Create a scatter plot of the data.\n",
        "plt.scatter(x, y, marker='x', c='r')\n",
        "# Set the title\n",
        "plt.title(\"size of house vs. Price\")\n",
        "# Set the y-axis label\n",
        "plt.ylabel('Price in dollar')\n",
        "# Set the x-axis label\n",
        "plt.xlabel('house size in sqft')\n",
        "plt.show()"
      ],
      "metadata": {
        "colab": {
          "base_uri": "https://localhost:8080/",
          "height": 472
        },
        "id": "QktgSBrIGjvK",
        "outputId": "73cf1148-4193-4677-cf7e-5916a6318961"
      },
      "execution_count": 57,
      "outputs": [
        {
          "output_type": "display_data",
          "data": {
            "text/plain": [
              "<Figure size 640x480 with 1 Axes>"
            ],
            "image/png": "[encoded data removed]"
          },
          "metadata": {}
        }
      ]
    },
    {
      "cell_type": "markdown",
      "source": [
        "**STEP 7: Final Prediction**"
      ],
      "metadata": {
        "id": "uJBJo1yzGwNd"
      }
    },
    {
      "cell_type": "code",
      "source": [
        "print(f\" for 1000sqft house, price is {w_final*1.0 + b_final:0.1f}thousand dollars\")\n"
      ],
      "metadata": {
        "id": "qcfn3fSBB8fC"
      },
      "execution_count": null,
      "outputs": []
    }
  ]
}